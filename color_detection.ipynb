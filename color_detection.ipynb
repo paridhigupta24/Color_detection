{
 "cells": [
  {
   "cell_type": "code",
   "execution_count": 1,
   "id": "ac7247d7-ac6e-404e-a666-9c9fd4e397ab",
   "metadata": {},
   "outputs": [
    {
     "name": "stdout",
     "output_type": "stream",
     "text": [
      "Collecting opencv-python\n",
      "  Obtaining dependency information for opencv-python from https://files.pythonhosted.org/packages/fb/c4/f574ba6f04e6d7bf8c38d23e7a52389566dd7631fee0bcdd79ea07ef2dbf/opencv_python-4.8.0.76-cp37-abi3-win_amd64.whl.metadata\n",
      "  Downloading opencv_python-4.8.0.76-cp37-abi3-win_amd64.whl.metadata (20 kB)\n",
      "Requirement already satisfied: numpy in c:\\users\\paridhi gupta\\appdata\\local\\programs\\python\\python311\\lib\\site-packages (1.25.2)\n",
      "Requirement already satisfied: scikit-learn in c:\\users\\paridhi gupta\\appdata\\local\\programs\\python\\python311\\lib\\site-packages (1.3.0)\n",
      "Requirement already satisfied: scipy>=1.5.0 in c:\\users\\paridhi gupta\\appdata\\local\\programs\\python\\python311\\lib\\site-packages (from scikit-learn) (1.11.2)\n",
      "Requirement already satisfied: joblib>=1.1.1 in c:\\users\\paridhi gupta\\appdata\\local\\programs\\python\\python311\\lib\\site-packages (from scikit-learn) (1.3.2)\n",
      "Requirement already satisfied: threadpoolctl>=2.0.0 in c:\\users\\paridhi gupta\\appdata\\local\\programs\\python\\python311\\lib\\site-packages (from scikit-learn) (3.2.0)\n",
      "Downloading opencv_python-4.8.0.76-cp37-abi3-win_amd64.whl (38.1 MB)\n",
      "   ---------------------------------------- 0.0/38.1 MB ? eta -:--:--\n",
      "   ---------------------------------------- 0.4/38.1 MB 12.6 MB/s eta 0:00:03\n",
      "   - -------------------------------------- 1.3/38.1 MB 11.9 MB/s eta 0:00:04\n",
      "   -- ------------------------------------- 2.1/38.1 MB 15.1 MB/s eta 0:00:03\n",
      "   --- ------------------------------------ 2.9/38.1 MB 15.3 MB/s eta 0:00:03\n",
      "   ---- ----------------------------------- 3.8/38.1 MB 16.3 MB/s eta 0:00:03\n",
      "   ----- ---------------------------------- 4.9/38.1 MB 17.6 MB/s eta 0:00:02\n",
      "   ------ --------------------------------- 6.0/38.1 MB 18.2 MB/s eta 0:00:02\n",
      "   ------- -------------------------------- 7.0/38.1 MB 18.7 MB/s eta 0:00:02\n",
      "   -------- ------------------------------- 7.7/38.1 MB 18.9 MB/s eta 0:00:02\n",
      "   --------- ------------------------------ 8.7/38.1 MB 19.1 MB/s eta 0:00:02\n",
      "   --------- ------------------------------ 9.3/38.1 MB 18.6 MB/s eta 0:00:02\n",
      "   ---------- ----------------------------- 10.4/38.1 MB 19.9 MB/s eta 0:00:02\n",
      "   ------------ --------------------------- 11.6/38.1 MB 21.8 MB/s eta 0:00:02\n",
      "   ------------ --------------------------- 12.1/38.1 MB 21.8 MB/s eta 0:00:02\n",
      "   -------------- ------------------------- 13.4/38.1 MB 22.6 MB/s eta 0:00:02\n",
      "   --------------- ------------------------ 14.5/38.1 MB 23.4 MB/s eta 0:00:02\n",
      "   --------------- ------------------------ 15.0/38.1 MB 21.1 MB/s eta 0:00:02\n",
      "   ----------------- ---------------------- 16.3/38.1 MB 22.6 MB/s eta 0:00:01\n",
      "   ------------------ --------------------- 17.2/38.1 MB 22.6 MB/s eta 0:00:01\n",
      "   ------------------- -------------------- 18.4/38.1 MB 22.6 MB/s eta 0:00:01\n",
      "   -------------------- ------------------- 19.3/38.1 MB 22.5 MB/s eta 0:00:01\n",
      "   --------------------- ------------------ 20.1/38.1 MB 21.9 MB/s eta 0:00:01\n",
      "   --------------------- ------------------ 20.8/38.1 MB 21.8 MB/s eta 0:00:01\n",
      "   ---------------------- ----------------- 21.5/38.1 MB 21.1 MB/s eta 0:00:01\n",
      "   ----------------------- ---------------- 22.6/38.1 MB 21.1 MB/s eta 0:00:01\n",
      "   ------------------------ --------------- 23.4/38.1 MB 21.1 MB/s eta 0:00:01\n",
      "   ------------------------- -------------- 24.5/38.1 MB 20.5 MB/s eta 0:00:01\n",
      "   -------------------------- ------------- 25.3/38.1 MB 21.8 MB/s eta 0:00:01\n",
      "   --------------------------- ------------ 26.3/38.1 MB 20.5 MB/s eta 0:00:01\n",
      "   ---------------------------- ----------- 27.2/38.1 MB 21.1 MB/s eta 0:00:01\n",
      "   ----------------------------- ---------- 28.2/38.1 MB 21.1 MB/s eta 0:00:01\n",
      "   ------------------------------ --------- 29.0/38.1 MB 20.5 MB/s eta 0:00:01\n",
      "   ------------------------------- -------- 30.1/38.1 MB 21.1 MB/s eta 0:00:01\n",
      "   -------------------------------- ------- 30.8/38.1 MB 20.5 MB/s eta 0:00:01\n",
      "   --------------------------------- ------ 31.5/38.1 MB 21.1 MB/s eta 0:00:01\n",
      "   ---------------------------------- ----- 32.4/38.1 MB 20.5 MB/s eta 0:00:01\n",
      "   ----------------------------------- ---- 33.5/38.1 MB 21.1 MB/s eta 0:00:01\n",
      "   ------------------------------------ --- 34.4/38.1 MB 19.8 MB/s eta 0:00:01\n",
      "   ------------------------------------ --- 35.1/38.1 MB 19.8 MB/s eta 0:00:01\n",
      "   ------------------------------------- -- 36.0/38.1 MB 19.8 MB/s eta 0:00:01\n",
      "   -------------------------------------- - 36.7/38.1 MB 19.2 MB/s eta 0:00:01\n",
      "   ---------------------------------------  37.5/38.1 MB 19.3 MB/s eta 0:00:01\n",
      "   ---------------------------------------  38.1/38.1 MB 18.7 MB/s eta 0:00:01\n",
      "   ---------------------------------------  38.1/38.1 MB 18.7 MB/s eta 0:00:01\n",
      "   ---------------------------------------  38.1/38.1 MB 18.7 MB/s eta 0:00:01\n",
      "   ---------------------------------------  38.1/38.1 MB 18.7 MB/s eta 0:00:01\n",
      "   ---------------------------------------  38.1/38.1 MB 18.7 MB/s eta 0:00:01\n",
      "   ---------------------------------------- 38.1/38.1 MB 12.6 MB/s eta 0:00:00\n",
      "Installing collected packages: opencv-python\n",
      "Successfully installed opencv-python-4.8.0.76\n",
      "Note: you may need to restart the kernel to use updated packages.\n"
     ]
    }
   ],
   "source": [
    "pip install opencv-python numpy scikit-learn\n"
   ]
  },
  {
   "cell_type": "code",
   "execution_count": 1,
   "id": "57cc8300-c04c-4b8f-a4ce-6e86756afacf",
   "metadata": {},
   "outputs": [],
   "source": [
    "import cv2\n",
    "import numpy as np\n",
    "from sklearn.cluster import KMeans\n"
   ]
  },
  {
   "cell_type": "code",
   "execution_count": 4,
   "id": "c83c27f5-e38f-41c0-aecb-37a54864997a",
   "metadata": {},
   "outputs": [],
   "source": [
    "\n",
    "# Resize the image if needed\n",
    "# image = cv2.resize(image, (width, height))\n",
    "desktop_path = \"C:/Users/Paridhi Gupta/OneDrive/Documents/img2.jpg\"\n",
    "image = cv2.imread(desktop_path)\n",
    "\n"
   ]
  },
  {
   "cell_type": "code",
   "execution_count": 5,
   "id": "ba8d3fd9-029b-4ca4-8094-bd2cd8a88db4",
   "metadata": {},
   "outputs": [],
   "source": [
    "image = cv2.cvtColor(image, cv2.COLOR_BGR2RGB)\n",
    "\n"
   ]
  },
  {
   "cell_type": "code",
   "execution_count": 6,
   "id": "962f0449-0dda-4c37-9df0-b7bcdf41c528",
   "metadata": {},
   "outputs": [],
   "source": [
    "pixels = image.reshape((-1, 3))\n",
    "\n"
   ]
  },
  {
   "cell_type": "code",
   "execution_count": 7,
   "id": "d5555874-fd17-4b49-a74c-1ab1d244241f",
   "metadata": {},
   "outputs": [
    {
     "data": {
      "text/html": [
       "<style>#sk-container-id-1 {color: black;}#sk-container-id-1 pre{padding: 0;}#sk-container-id-1 div.sk-toggleable {background-color: white;}#sk-container-id-1 label.sk-toggleable__label {cursor: pointer;display: block;width: 100%;margin-bottom: 0;padding: 0.3em;box-sizing: border-box;text-align: center;}#sk-container-id-1 label.sk-toggleable__label-arrow:before {content: \"▸\";float: left;margin-right: 0.25em;color: #696969;}#sk-container-id-1 label.sk-toggleable__label-arrow:hover:before {color: black;}#sk-container-id-1 div.sk-estimator:hover label.sk-toggleable__label-arrow:before {color: black;}#sk-container-id-1 div.sk-toggleable__content {max-height: 0;max-width: 0;overflow: hidden;text-align: left;background-color: #f0f8ff;}#sk-container-id-1 div.sk-toggleable__content pre {margin: 0.2em;color: black;border-radius: 0.25em;background-color: #f0f8ff;}#sk-container-id-1 input.sk-toggleable__control:checked~div.sk-toggleable__content {max-height: 200px;max-width: 100%;overflow: auto;}#sk-container-id-1 input.sk-toggleable__control:checked~label.sk-toggleable__label-arrow:before {content: \"▾\";}#sk-container-id-1 div.sk-estimator input.sk-toggleable__control:checked~label.sk-toggleable__label {background-color: #d4ebff;}#sk-container-id-1 div.sk-label input.sk-toggleable__control:checked~label.sk-toggleable__label {background-color: #d4ebff;}#sk-container-id-1 input.sk-hidden--visually {border: 0;clip: rect(1px 1px 1px 1px);clip: rect(1px, 1px, 1px, 1px);height: 1px;margin: -1px;overflow: hidden;padding: 0;position: absolute;width: 1px;}#sk-container-id-1 div.sk-estimator {font-family: monospace;background-color: #f0f8ff;border: 1px dotted black;border-radius: 0.25em;box-sizing: border-box;margin-bottom: 0.5em;}#sk-container-id-1 div.sk-estimator:hover {background-color: #d4ebff;}#sk-container-id-1 div.sk-parallel-item::after {content: \"\";width: 100%;border-bottom: 1px solid gray;flex-grow: 1;}#sk-container-id-1 div.sk-label:hover label.sk-toggleable__label {background-color: #d4ebff;}#sk-container-id-1 div.sk-serial::before {content: \"\";position: absolute;border-left: 1px solid gray;box-sizing: border-box;top: 0;bottom: 0;left: 50%;z-index: 0;}#sk-container-id-1 div.sk-serial {display: flex;flex-direction: column;align-items: center;background-color: white;padding-right: 0.2em;padding-left: 0.2em;position: relative;}#sk-container-id-1 div.sk-item {position: relative;z-index: 1;}#sk-container-id-1 div.sk-parallel {display: flex;align-items: stretch;justify-content: center;background-color: white;position: relative;}#sk-container-id-1 div.sk-item::before, #sk-container-id-1 div.sk-parallel-item::before {content: \"\";position: absolute;border-left: 1px solid gray;box-sizing: border-box;top: 0;bottom: 0;left: 50%;z-index: -1;}#sk-container-id-1 div.sk-parallel-item {display: flex;flex-direction: column;z-index: 1;position: relative;background-color: white;}#sk-container-id-1 div.sk-parallel-item:first-child::after {align-self: flex-end;width: 50%;}#sk-container-id-1 div.sk-parallel-item:last-child::after {align-self: flex-start;width: 50%;}#sk-container-id-1 div.sk-parallel-item:only-child::after {width: 0;}#sk-container-id-1 div.sk-dashed-wrapped {border: 1px dashed gray;margin: 0 0.4em 0.5em 0.4em;box-sizing: border-box;padding-bottom: 0.4em;background-color: white;}#sk-container-id-1 div.sk-label label {font-family: monospace;font-weight: bold;display: inline-block;line-height: 1.2em;}#sk-container-id-1 div.sk-label-container {text-align: center;}#sk-container-id-1 div.sk-container {/* jupyter's `normalize.less` sets `[hidden] { display: none; }` but bootstrap.min.css set `[hidden] { display: none !important; }` so we also need the `!important` here to be able to override the default hidden behavior on the sphinx rendered scikit-learn.org. See: https://github.com/scikit-learn/scikit-learn/issues/21755 */display: inline-block !important;position: relative;}#sk-container-id-1 div.sk-text-repr-fallback {display: none;}</style><div id=\"sk-container-id-1\" class=\"sk-top-container\"><div class=\"sk-text-repr-fallback\"><pre>KMeans(n_clusters=5, n_init=10)</pre><b>In a Jupyter environment, please rerun this cell to show the HTML representation or trust the notebook. <br />On GitHub, the HTML representation is unable to render, please try loading this page with nbviewer.org.</b></div><div class=\"sk-container\" hidden><div class=\"sk-item\"><div class=\"sk-estimator sk-toggleable\"><input class=\"sk-toggleable__control sk-hidden--visually\" id=\"sk-estimator-id-1\" type=\"checkbox\" checked><label for=\"sk-estimator-id-1\" class=\"sk-toggleable__label sk-toggleable__label-arrow\">KMeans</label><div class=\"sk-toggleable__content\"><pre>KMeans(n_clusters=5, n_init=10)</pre></div></div></div></div></div>"
      ],
      "text/plain": [
       "KMeans(n_clusters=5, n_init=10)"
      ]
     },
     "execution_count": 7,
     "metadata": {},
     "output_type": "execute_result"
    }
   ],
   "source": [
    "\n",
    "# Define the number of clusters (prominent colors)\n",
    "k = 5\n",
    "\n",
    "# Apply K-Means clustering\n",
    "kmeans = KMeans(n_clusters=k, n_init=10)  # Explicitly set n_init to 10\n",
    "kmeans.fit(pixels)\n",
    "\n"
   ]
  },
  {
   "cell_type": "code",
   "execution_count": 48,
   "id": "e8236783-da31-4f6c-a9d5-6434b569a4d2",
   "metadata": {},
   "outputs": [],
   "source": [
    "colors = kmeans.cluster_centers_.astype(int)"
   ]
  },
  {
   "cell_type": "code",
   "execution_count": 49,
   "id": "5906375a-f759-4b44-b709-6956c72e82ee",
   "metadata": {},
   "outputs": [
    {
     "name": "stdout",
     "output_type": "stream",
     "text": [
      "RGB: (207, 227, 225)\n",
      "RGB: (106, 162, 121)\n",
      "RGB: (157, 197, 158)\n",
      "RGB: (54, 101, 77)\n",
      "RGB: (244, 215, 14)\n"
     ]
    }
   ],
   "source": [
    "for color in colors:\n",
    "    print(f\"RGB: {tuple(color)}\")"
   ]
  },
  {
   "cell_type": "code",
   "execution_count": 50,
   "id": "00cfc42c-6a02-4053-98d5-d2589cb4c55e",
   "metadata": {},
   "outputs": [],
   "source": [
    "import matplotlib.pyplot as plt\n"
   ]
  },
  {
   "cell_type": "code",
   "execution_count": 51,
   "id": "e5456282-de3c-4a69-b6d2-aac95e53d490",
   "metadata": {},
   "outputs": [
    {
     "name": "stdout",
     "output_type": "stream",
     "text": [
      "Dominant Color: (207, 227, 225)\n"
     ]
    }
   ],
   "source": [
    "dominant_color = max(colors, key=lambda x: sum(x))\n",
    "print(f\"Dominant Color: {tuple(dominant_color)}\")\n",
    "\n",
    "# You can define criteria to filter or process specific colors.\n",
    "filtered_colors = [color for color in colors if sum(color) > 100]\n"
   ]
  },
  {
   "cell_type": "code",
   "execution_count": 53,
   "id": "de09a9e8-c31b-4d83-b30f-053f524d60f2",
   "metadata": {},
   "outputs": [
    {
     "data": {
      "image/png": "[encoded data removed]",
      "text/plain": [
       "<Figure size 640x480 with 1 Axes>"
      ]
     },
     "metadata": {},
     "output_type": "display_data"
    }
   ],
   "source": [
    "import matplotlib.pyplot as plt\n",
    "import numpy as np\n",
    "\n",
    "# Assuming you already have the 'colors' list from a previous code block\n",
    "\n",
    "# Determine the size of the color scale\n",
    "scale_width = 100\n",
    "scale_height = 50\n",
    "\n",
    "# Create a color scale image\n",
    "color_scale = np.zeros((scale_height, len(colors) * scale_width, 3), dtype=np.uint8)\n",
    "\n",
    "# Create color swatches and display RGB values\n",
    "for i, color in enumerate(colors):\n",
    "    start_x = i * scale_width\n",
    "    end_x = (i + 1) * scale_width\n",
    "    color_rgb = tuple(reversed(color))  # Convert BGR to RGB\n",
    "    color_rgb = tuple(map(int, color_rgb))  # Ensure that color_rgb elements are integers\n",
    "    cv2.rectangle(color_scale, (start_x, 0), (end_x, scale_height), color_rgb, -1)  # Draw a filled rectangle\n",
    "    cv2.putText(color_scale, f'RGB: {color}', (start_x + 5, scale_height - 5), cv2.FONT_HERSHEY_SIMPLEX, 0.4, (255, 255, 255), 1)\n",
    "\n",
    "# Display the color scale\n",
    "plt.imshow(color_scale)\n",
    "plt.axis('off')\n",
    "plt.show()\n"
   ]
  },
  {
   "cell_type": "code",
   "execution_count": null,
   "id": "713d2369-0cc2-4b06-ad82-a07bad7dc0bd",
   "metadata": {},
   "outputs": [],
   "source": []
  }
 ],
 "metadata": {
  "kernelspec": {
   "display_name": "Python 3 (ipykernel)",
   "language": "python",
   "name": "python3"
  },
  "language_info": {
   "codemirror_mode": {
    "name": "ipython",
    "version": 3
   },
   "file_extension": ".py",
   "mimetype": "text/x-python",
   "name": "python",
   "nbconvert_exporter": "python",
   "pygments_lexer": "ipython3",
   "version": "3.11.4"
  }
 },
 "nbformat": 4,
 "nbformat_minor": 5
}
